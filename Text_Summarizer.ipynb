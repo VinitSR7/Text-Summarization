{
 "cells": [
  {
   "cell_type": "markdown",
   "metadata": {
    "colab_type": "text",
    "id": "odtDOXFPqD9R"
   },
   "source": [
    "# Text Summarization"
   ]
  },
  {
   "cell_type": "code",
   "execution_count": 1,
   "metadata": {
    "colab": {},
    "colab_type": "code",
    "id": "wkdmx_wi4GYB"
   },
   "outputs": [],
   "source": [
    "import numpy as np\n",
    "import pandas as pd \n",
    "import re\n",
    "from bs4 import BeautifulSoup\n",
    "\n",
    "from nltk.corpus import stopwords\n",
    "from sklearn.model_selection import train_test_split \n",
    "from tensorflow.keras.layers import *\n",
    "from tensorflow.keras.preprocessing import text, sequence\n",
    "from tensorflow.keras.preprocessing.text import Tokenizer\n",
    "from tensorflow.keras.preprocessing.sequence import pad_sequences\n",
    "from tensorflow.keras.utils import to_categorical\n",
    "from tensorflow.keras.utils import plot_model\n",
    "from tensorflow.keras.callbacks import ModelCheckpoint\n",
    "from tensorflow.keras.models import Model"
   ]
  },
  {
   "cell_type": "code",
   "execution_count": 2,
   "metadata": {
    "colab": {
     "base_uri": "https://localhost:8080/",
     "height": 122
    },
    "colab_type": "code",
    "id": "U7NttUam4Wjy",
    "outputId": "df4245a7-8616-4399-a122-6cee3c19b7e3"
   },
   "outputs": [
    {
     "name": "stdout",
     "output_type": "stream",
     "text": [
      "Go to this URL in a browser: https://accounts.google.com/o/oauth2/auth?client_id=947318989803-6bn6qk8qdgf4n4g3pfee6491hc0brc4i.apps.googleusercontent.com&redirect_uri=urn%3aietf%3awg%3aoauth%3a2.0%3aoob&response_type=code&scope=email%20https%3a%2f%2fwww.googleapis.com%2fauth%2fdocs.test%20https%3a%2f%2fwww.googleapis.com%2fauth%2fdrive%20https%3a%2f%2fwww.googleapis.com%2fauth%2fdrive.photos.readonly%20https%3a%2f%2fwww.googleapis.com%2fauth%2fpeopleapi.readonly\n",
      "\n",
      "Enter your authorization code:\n",
      "··········\n",
      "Mounted at /content/drive\n"
     ]
    }
   ],
   "source": [
    "from google.colab import drive\n",
    "drive.mount('/content/drive')"
   ]
  },
  {
   "cell_type": "code",
   "execution_count": 3,
   "metadata": {
    "colab": {
     "base_uri": "https://localhost:8080/",
     "height": 34
    },
    "colab_type": "code",
    "id": "OaxOIKySpYSJ",
    "outputId": "99367edf-1ab6-4ab7-90ce-e44da3291b0c"
   },
   "outputs": [
    {
     "name": "stdout",
     "output_type": "stream",
     "text": [
      "/content/drive/My Drive/Text Summarizer\n"
     ]
    }
   ],
   "source": [
    "cd drive/My\\ Drive/Text\\ Summarizer"
   ]
  },
  {
   "cell_type": "markdown",
   "metadata": {
    "colab_type": "text",
    "id": "AvraIvkIqPfk"
   },
   "source": [
    "# Preparing and Loading Data"
   ]
  },
  {
   "cell_type": "code",
   "execution_count": 4,
   "metadata": {
    "colab": {},
    "colab_type": "code",
    "id": "m7MHxmYnlcIn"
   },
   "outputs": [],
   "source": [
    "# !wget --header=\"Host: storage.googleapis.com\" --header=\"User-Agent: Mozilla/5.0 (Windows NT 10.0; Win64; x64) AppleWebKit/537.36 (KHTML, like Gecko) Chrome/83.0.4103.97 Safari/537.36\" --header=\"Accept: text/html,application/xhtml+xml,application/xml;q=0.9,image/webp,image/apng,*/*;q=0.8,application/signed-exchange;v=b3;q=0.9\" --header=\"Accept-Language: en-IN,en-GB;q=0.9,en-US;q=0.8,en;q=0.7\" --header=\"Referer: https://www.kaggle.com/\" \"https://storage.googleapis.com/kaggle-data-sets/18%2F2157%2Fcompressed%2FReviews.csv.zip?GoogleAccessId=gcp-kaggle-com@kaggle-161607.iam.gserviceaccount.com&Expires=1592829433&Signature=Rcvu965Hen%2FP1g8g%2FXWoV3SQgI4FONM6EAig43QKnI8IVcOfX7vEr9mBZxez9S%2FIuE3cCixcweoyusegUYBvofd6Wnwooxft5z6G6yYAWtBnoUU7x7rH3%2BvEtDfmu4t8hMH7R%2Ftv9NML4BT9TylAmBq7hGWGDTnKn6nOdL8dWxugdV1X1zoJ4hizkuAE13CrPZPhMFDucTkmxOswb7Er9yyzCmkr8yzXzjm35eYON%2FWlhJ%2FjfnImIBJvQyWJ%2BLAer5NWepR5cX7afq5FRklDEQLs3JjA4SSxNdGZ%2BncUx824LCnQXjUZCPcGhFmlUkX9LNa6yOAj%2B50tQ1ZUjnnfdg%3D%3D\" -c -O '18_2157_compressed_Reviews.csv.zip'"
   ]
  },
  {
   "cell_type": "code",
   "execution_count": null,
   "metadata": {
    "colab": {},
    "colab_type": "code",
    "id": "BXi1x6bUlzeT"
   },
   "outputs": [],
   "source": [
    "# import zipfile\n",
    "# with zipfile.ZipFile('Reviews.csv.zip', 'r') as zip_ref:\n",
    "#     zip_ref.extractall(\"./\")"
   ]
  },
  {
   "cell_type": "code",
   "execution_count": 5,
   "metadata": {
    "colab": {},
    "colab_type": "code",
    "id": "xupvYcR57v_R"
   },
   "outputs": [],
   "source": [
    "data=pd.read_csv(\"Reviews.csv\",nrows=200000)"
   ]
  },
  {
   "cell_type": "code",
   "execution_count": 6,
   "metadata": {
    "colab": {
     "base_uri": "https://localhost:8080/",
     "height": 442
    },
    "colab_type": "code",
    "id": "Wo9OMuRW967i",
    "outputId": "0da3f2c5-2fe1-496b-d80f-a61f46911ff0"
   },
   "outputs": [
    {
     "data": {
      "text/html": [
       "<div>\n",
       "<style scoped>\n",
       "    .dataframe tbody tr th:only-of-type {\n",
       "        vertical-align: middle;\n",
       "    }\n",
       "\n",
       "    .dataframe tbody tr th {\n",
       "        vertical-align: top;\n",
       "    }\n",
       "\n",
       "    .dataframe thead th {\n",
       "        text-align: right;\n",
       "    }\n",
       "</style>\n",
       "<table border=\"1\" class=\"dataframe\">\n",
       "  <thead>\n",
       "    <tr style=\"text-align: right;\">\n",
       "      <th></th>\n",
       "      <th>Id</th>\n",
       "      <th>ProductId</th>\n",
       "      <th>UserId</th>\n",
       "      <th>ProfileName</th>\n",
       "      <th>HelpfulnessNumerator</th>\n",
       "      <th>HelpfulnessDenominator</th>\n",
       "      <th>Score</th>\n",
       "      <th>Time</th>\n",
       "      <th>Summary</th>\n",
       "      <th>Text</th>\n",
       "    </tr>\n",
       "  </thead>\n",
       "  <tbody>\n",
       "    <tr>\n",
       "      <th>40541</th>\n",
       "      <td>40542</td>\n",
       "      <td>B00020HHRW</td>\n",
       "      <td>A16QUBP9J1KSDM</td>\n",
       "      <td>Martha G. Huebert \"retired teacher\"</td>\n",
       "      <td>4</td>\n",
       "      <td>10</td>\n",
       "      <td>3</td>\n",
       "      <td>1195171200</td>\n",
       "      <td>tea OK, postage way too high</td>\n",
       "      <td>The sage tea is OK, but I was surprised that f...</td>\n",
       "    </tr>\n",
       "    <tr>\n",
       "      <th>77518</th>\n",
       "      <td>77519</td>\n",
       "      <td>B002EYBB3A</td>\n",
       "      <td>A1J5HIF41ENSMZ</td>\n",
       "      <td>Adam Wood</td>\n",
       "      <td>16</td>\n",
       "      <td>16</td>\n",
       "      <td>5</td>\n",
       "      <td>1276300800</td>\n",
       "      <td>High quality tuna that's easier on my conscience</td>\n",
       "      <td>I originally tried Wild Planet tuna back in 20...</td>\n",
       "    </tr>\n",
       "    <tr>\n",
       "      <th>7682</th>\n",
       "      <td>7683</td>\n",
       "      <td>B001E5DZTS</td>\n",
       "      <td>A3NE8L23J9GHC1</td>\n",
       "      <td>M. L. Lopez</td>\n",
       "      <td>5</td>\n",
       "      <td>5</td>\n",
       "      <td>5</td>\n",
       "      <td>1190592000</td>\n",
       "      <td>My daughter loves this milk!</td>\n",
       "      <td>My 14 month old daughter can not tolerate cows...</td>\n",
       "    </tr>\n",
       "    <tr>\n",
       "      <th>185397</th>\n",
       "      <td>185398</td>\n",
       "      <td>B001AHFVHO</td>\n",
       "      <td>A3JV071KO43Q5X</td>\n",
       "      <td>Jeff Pittman \"Jeff\"</td>\n",
       "      <td>0</td>\n",
       "      <td>0</td>\n",
       "      <td>3</td>\n",
       "      <td>1220140800</td>\n",
       "      <td>Somewhere between a Frito and a tortilla chip</td>\n",
       "      <td>...but I guess a little more like a tortilla c...</td>\n",
       "    </tr>\n",
       "    <tr>\n",
       "      <th>66466</th>\n",
       "      <td>66467</td>\n",
       "      <td>B002HQFN9I</td>\n",
       "      <td>A1XV49PJK0AP7C</td>\n",
       "      <td>Bizobb</td>\n",
       "      <td>0</td>\n",
       "      <td>0</td>\n",
       "      <td>5</td>\n",
       "      <td>1321920000</td>\n",
       "      <td>My favorite!</td>\n",
       "      <td>Level 4 is what used to be their \"Breakfast Bl...</td>\n",
       "    </tr>\n",
       "  </tbody>\n",
       "</table>\n",
       "</div>"
      ],
      "text/plain": [
       "            Id  ...                                               Text\n",
       "40541    40542  ...  The sage tea is OK, but I was surprised that f...\n",
       "77518    77519  ...  I originally tried Wild Planet tuna back in 20...\n",
       "7682      7683  ...  My 14 month old daughter can not tolerate cows...\n",
       "185397  185398  ...  ...but I guess a little more like a tortilla c...\n",
       "66466    66467  ...  Level 4 is what used to be their \"Breakfast Bl...\n",
       "\n",
       "[5 rows x 10 columns]"
      ]
     },
     "execution_count": 6,
     "metadata": {
      "tags": []
     },
     "output_type": "execute_result"
    }
   ],
   "source": [
    "data.sample(5)"
   ]
  },
  {
   "cell_type": "code",
   "execution_count": 7,
   "metadata": {
    "colab": {},
    "colab_type": "code",
    "id": "L6zlayaw7wYw"
   },
   "outputs": [],
   "source": [
    "data.drop_duplicates(subset=['Text'],inplace=True)#dropping duplicates\n",
    "data.dropna(axis=0,inplace=True)#dropping na"
   ]
  },
  {
   "cell_type": "markdown",
   "metadata": {
    "colab_type": "text",
    "id": "28RBr5cS-Vq5"
   },
   "source": [
    "### Preprocessing"
   ]
  },
  {
   "cell_type": "code",
   "execution_count": 8,
   "metadata": {
    "colab": {},
    "colab_type": "code",
    "id": "SgL8CVbV7wdX"
   },
   "outputs": [],
   "source": [
    "contraction_mapping = {\"ain't\": \"is not\", \"aren't\": \"are not\",\"can't\": \"cannot\", \"'cause\": \"because\", \"could've\": \"could have\", \"couldn't\": \"could not\",\n",
    "                           \"didn't\": \"did not\",  \"doesn't\": \"does not\", \"don't\": \"do not\", \"hadn't\": \"had not\", \"hasn't\": \"has not\", \"haven't\": \"have not\",\n",
    "                           \"he'd\": \"he would\",\"he'll\": \"he will\", \"he's\": \"he is\", \"how'd\": \"how did\", \"how'd'y\": \"how do you\", \"how'll\": \"how will\", \"how's\": \"how is\",\n",
    "                           \"I'd\": \"I would\", \"I'd've\": \"I would have\", \"I'll\": \"I will\", \"I'll've\": \"I will have\",\"I'm\": \"I am\", \"I've\": \"I have\", \"i'd\": \"i would\",\n",
    "                           \"i'd've\": \"i would have\", \"i'll\": \"i will\",  \"i'll've\": \"i will have\",\"i'm\": \"i am\", \"i've\": \"i have\", \"isn't\": \"is not\", \"it'd\": \"it would\",\n",
    "                           \"it'd've\": \"it would have\", \"it'll\": \"it will\", \"it'll've\": \"it will have\",\"it's\": \"it is\", \"let's\": \"let us\", \"ma'am\": \"madam\",\n",
    "                           \"mayn't\": \"may not\", \"might've\": \"might have\",\"mightn't\": \"might not\",\"mightn't've\": \"might not have\", \"must've\": \"must have\",\n",
    "                           \"mustn't\": \"must not\", \"mustn't've\": \"must not have\", \"needn't\": \"need not\", \"needn't've\": \"need not have\",\"o'clock\": \"of the clock\",\n",
    "                           \"oughtn't\": \"ought not\", \"oughtn't've\": \"ought not have\", \"shan't\": \"shall not\", \"sha'n't\": \"shall not\", \"shan't've\": \"shall not have\",\n",
    "                           \"she'd\": \"she would\", \"she'd've\": \"she would have\", \"she'll\": \"she will\", \"she'll've\": \"she will have\", \"she's\": \"she is\",\n",
    "                           \"should've\": \"should have\", \"shouldn't\": \"should not\", \"shouldn't've\": \"should not have\", \"so've\": \"so have\",\"so's\": \"so as\",\n",
    "                           \"this's\": \"this is\",\"that'd\": \"that would\", \"that'd've\": \"that would have\", \"that's\": \"that is\", \"there'd\": \"there would\",\n",
    "                           \"there'd've\": \"there would have\", \"there's\": \"there is\", \"here's\": \"here is\",\"they'd\": \"they would\", \"they'd've\": \"they would have\",\n",
    "                           \"they'll\": \"they will\", \"they'll've\": \"they will have\", \"they're\": \"they are\", \"they've\": \"they have\", \"to've\": \"to have\",\n",
    "                           \"wasn't\": \"was not\", \"we'd\": \"we would\", \"we'd've\": \"we would have\", \"we'll\": \"we will\", \"we'll've\": \"we will have\", \"we're\": \"we are\",\n",
    "                           \"we've\": \"we have\", \"weren't\": \"were not\", \"what'll\": \"what will\", \"what'll've\": \"what will have\", \"what're\": \"what are\",\n",
    "                           \"what's\": \"what is\", \"what've\": \"what have\", \"when's\": \"when is\", \"when've\": \"when have\", \"where'd\": \"where did\", \"where's\": \"where is\",\n",
    "                           \"where've\": \"where have\", \"who'll\": \"who will\", \"who'll've\": \"who will have\", \"who's\": \"who is\", \"who've\": \"who have\",\n",
    "                           \"why's\": \"why is\", \"why've\": \"why have\", \"will've\": \"will have\", \"won't\": \"will not\", \"won't've\": \"will not have\",\n",
    "                           \"would've\": \"would have\", \"wouldn't\": \"would not\", \"wouldn't've\": \"would not have\", \"y'all\": \"you all\",\n",
    "                           \"y'all'd\": \"you all would\",\"y'all'd've\": \"you all would have\",\"y'all're\": \"you all are\",\"y'all've\": \"you all have\",\n",
    "                           \"you'd\": \"you would\", \"you'd've\": \"you would have\", \"you'll\": \"you will\", \"you'll've\": \"you will have\",\n",
    "                           \"you're\": \"you are\", \"you've\": \"you have\"}"
   ]
  },
  {
   "cell_type": "code",
   "execution_count": 9,
   "metadata": {
    "colab": {
     "base_uri": "https://localhost:8080/",
     "height": 68
    },
    "colab_type": "code",
    "id": "Ro7GIIrrjUyT",
    "outputId": "62d7baf2-815e-4b22-955a-8ce1db014306"
   },
   "outputs": [
    {
     "name": "stdout",
     "output_type": "stream",
     "text": [
      "[nltk_data] Downloading package stopwords to /root/nltk_data...\n",
      "[nltk_data]   Unzipping corpora/stopwords.zip.\n"
     ]
    },
    {
     "data": {
      "text/plain": [
       "True"
      ]
     },
     "execution_count": 9,
     "metadata": {
      "tags": []
     },
     "output_type": "execute_result"
    }
   ],
   "source": [
    "import nltk \n",
    "nltk.download('stopwords')"
   ]
  },
  {
   "cell_type": "code",
   "execution_count": 10,
   "metadata": {
    "colab": {},
    "colab_type": "code",
    "id": "vd7PAAET7wbm"
   },
   "outputs": [],
   "source": [
    "stop_words = set(stopwords.words('english')) \n",
    "\n",
    "def text_cleaner(text,num):\n",
    "    newString = text.lower()\n",
    "    newString = BeautifulSoup(newString, \"lxml\").text\n",
    "    newString = re.sub(r'\\([^)]*\\)', '', newString)\n",
    "    newString = re.sub('\"','', newString)\n",
    "    newString = ' '.join([contraction_mapping[t] if t in contraction_mapping else t for t in newString.split(\" \")])    \n",
    "    newString = re.sub(r\"'s\\b\",\"\",newString)\n",
    "    newString = re.sub(\"[^a-zA-Z]\", \" \", newString) \n",
    "    newString = re.sub('[m]{2,}', 'mm', newString)\n",
    "    if(num==0):\n",
    "        tokens = [w for w in newString.split() if not w in stop_words]\n",
    "    else:\n",
    "        tokens=newString.split()\n",
    "    long_words=[]\n",
    "    for i in tokens:                                               \n",
    "        long_words.append(i)   \n",
    "    return \"startseq \" + (\" \".join(long_words)).strip() + \" endseq\""
   ]
  },
  {
   "cell_type": "code",
   "execution_count": 11,
   "metadata": {
    "colab": {},
    "colab_type": "code",
    "id": "8GmwpStn-oml"
   },
   "outputs": [],
   "source": [
    "#call the function\n",
    "cleaned_text = []\n",
    "for t in data['Text']:\n",
    "    cleaned_text.append(text_cleaner(t,1))"
   ]
  },
  {
   "cell_type": "code",
   "execution_count": 12,
   "metadata": {
    "colab": {
     "base_uri": "https://localhost:8080/",
     "height": 122
    },
    "colab_type": "code",
    "id": "oaeZ7l7r_UPc",
    "outputId": "a2ea885c-d7d3-486f-8c23-ae75810cd730"
   },
   "outputs": [
    {
     "data": {
      "text/plain": [
       "['startseq i have bought several of the vitality canned dog food products and have found them all to be of good quality the product looks more like a stew than a processed meat and it smells better my labrador is finicky and she appreciates this product better than most endseq',\n",
       " 'startseq product arrived labeled as jumbo salted peanuts the peanuts were actually small sized unsalted not sure if this was an error or if the vendor intended to represent the product as jumbo endseq',\n",
       " 'startseq this is a confection that has been around a few centuries it is a light pillowy citrus gelatin with nuts in this case filberts and it is cut into tiny squares and then liberally coated with powdered sugar and it is a tiny mouthful of heaven not too chewy and very flavorful i highly recommend this yummy treat if you are familiar with the story of c s lewis the lion the witch and the wardrobe this is the treat that seduces edmund into selling out his brother and sisters to the witch endseq',\n",
       " 'startseq if you are looking for the secret ingredient in robitussin i believe i have found it i got this in addition to the root beer extract i ordered and made some cherry soda the flavor is very medicinal endseq',\n",
       " 'startseq great taffy at a great price there was a wide assortment of yummy taffy delivery was very quick if your a taffy lover this is a deal endseq']"
      ]
     },
     "execution_count": 12,
     "metadata": {
      "tags": []
     },
     "output_type": "execute_result"
    }
   ],
   "source": [
    "cleaned_text[:5]"
   ]
  },
  {
   "cell_type": "code",
   "execution_count": 13,
   "metadata": {
    "colab": {
     "base_uri": "https://localhost:8080/",
     "height": 173
    },
    "colab_type": "code",
    "id": "PL9M3HiR_US6",
    "outputId": "1a50b4ad-3deb-47cf-eb8b-f580d8142c4a"
   },
   "outputs": [
    {
     "name": "stderr",
     "output_type": "stream",
     "text": [
      "/usr/local/lib/python3.6/dist-packages/bs4/__init__.py:336: UserWarning: \"http://www.amazon.com/gp/product/b007i7yygy/ref=cm_cr_rev_prod_title\" looks like a URL. Beautiful Soup is not an HTTP client. You should probably use an HTTP client like requests to get the document behind the URL, and feed that document to Beautiful Soup.\n",
      "  ' that document to Beautiful Soup.' % decoded_markup\n",
      "/usr/local/lib/python3.6/dist-packages/bs4/__init__.py:273: UserWarning: \"b'.'\" looks like a filename, not markup. You should probably open this file and pass the filehandle into Beautiful Soup.\n",
      "  ' Beautiful Soup.' % markup)\n",
      "/usr/local/lib/python3.6/dist-packages/bs4/__init__.py:336: UserWarning: \"http://www.amazon.com/gp/product/b000v9lq30/ref=cm_cr_rev_prod_title\" looks like a URL. Beautiful Soup is not an HTTP client. You should probably use an HTTP client like requests to get the document behind the URL, and feed that document to Beautiful Soup.\n",
      "  ' that document to Beautiful Soup.' % decoded_markup\n",
      "/usr/local/lib/python3.6/dist-packages/bs4/__init__.py:336: UserWarning: \"http://www.amazon.com/gp/product/b001eq58fq/ref=cm_cr_rev_prod_title\" looks like a URL. Beautiful Soup is not an HTTP client. You should probably use an HTTP client like requests to get the document behind the URL, and feed that document to Beautiful Soup.\n",
      "  ' that document to Beautiful Soup.' % decoded_markup\n"
     ]
    }
   ],
   "source": [
    "#call the function\n",
    "cleaned_summary = []\n",
    "for t in data['Summary']:\n",
    "    cleaned_summary.append(text_cleaner(t,1))"
   ]
  },
  {
   "cell_type": "code",
   "execution_count": 14,
   "metadata": {
    "colab": {
     "base_uri": "https://localhost:8080/",
     "height": 102
    },
    "colab_type": "code",
    "id": "3L5_1fho_UkJ",
    "outputId": "ec78b26f-395c-4c67-c5b8-934beb00be96"
   },
   "outputs": [
    {
     "data": {
      "text/plain": [
       "['startseq good quality dog food endseq',\n",
       " 'startseq not as advertised endseq',\n",
       " 'startseq delight says it all endseq',\n",
       " 'startseq cough medicine endseq',\n",
       " 'startseq great taffy endseq']"
      ]
     },
     "execution_count": 14,
     "metadata": {
      "tags": []
     },
     "output_type": "execute_result"
    }
   ],
   "source": [
    "cleaned_summary[:5]"
   ]
  },
  {
   "cell_type": "code",
   "execution_count": 15,
   "metadata": {
    "colab": {},
    "colab_type": "code",
    "id": "gAMpzV0en_FX"
   },
   "outputs": [],
   "source": [
    "data = pd.DataFrame({'text' : cleaned_text, 'summary' : cleaned_summary})"
   ]
  },
  {
   "cell_type": "code",
   "execution_count": 16,
   "metadata": {
    "colab": {},
    "colab_type": "code",
    "id": "qPcVh4vjoYKn"
   },
   "outputs": [],
   "source": [
    "data.replace('', np.nan, inplace=True)\n",
    "data.dropna(axis=0,inplace=True)"
   ]
  },
  {
   "cell_type": "code",
   "execution_count": 17,
   "metadata": {
    "colab": {
     "base_uri": "https://localhost:8080/",
     "height": 204
    },
    "colab_type": "code",
    "id": "c6ENjiBUG8fO",
    "outputId": "8dfcd38d-d599-439c-a272-9d347fdbff74"
   },
   "outputs": [
    {
     "data": {
      "text/html": [
       "<div>\n",
       "<style scoped>\n",
       "    .dataframe tbody tr th:only-of-type {\n",
       "        vertical-align: middle;\n",
       "    }\n",
       "\n",
       "    .dataframe tbody tr th {\n",
       "        vertical-align: top;\n",
       "    }\n",
       "\n",
       "    .dataframe thead th {\n",
       "        text-align: right;\n",
       "    }\n",
       "</style>\n",
       "<table border=\"1\" class=\"dataframe\">\n",
       "  <thead>\n",
       "    <tr style=\"text-align: right;\">\n",
       "      <th></th>\n",
       "      <th>text</th>\n",
       "      <th>summary</th>\n",
       "    </tr>\n",
       "  </thead>\n",
       "  <tbody>\n",
       "    <tr>\n",
       "      <th>0</th>\n",
       "      <td>startseq i have bought several of the vitality...</td>\n",
       "      <td>startseq good quality dog food endseq</td>\n",
       "    </tr>\n",
       "    <tr>\n",
       "      <th>1</th>\n",
       "      <td>startseq product arrived labeled as jumbo salt...</td>\n",
       "      <td>startseq not as advertised endseq</td>\n",
       "    </tr>\n",
       "    <tr>\n",
       "      <th>2</th>\n",
       "      <td>startseq this is a confection that has been ar...</td>\n",
       "      <td>startseq delight says it all endseq</td>\n",
       "    </tr>\n",
       "    <tr>\n",
       "      <th>3</th>\n",
       "      <td>startseq if you are looking for the secret ing...</td>\n",
       "      <td>startseq cough medicine endseq</td>\n",
       "    </tr>\n",
       "    <tr>\n",
       "      <th>4</th>\n",
       "      <td>startseq great taffy at a great price there wa...</td>\n",
       "      <td>startseq great taffy endseq</td>\n",
       "    </tr>\n",
       "  </tbody>\n",
       "</table>\n",
       "</div>"
      ],
      "text/plain": [
       "                                                text                                summary\n",
       "0  startseq i have bought several of the vitality...  startseq good quality dog food endseq\n",
       "1  startseq product arrived labeled as jumbo salt...      startseq not as advertised endseq\n",
       "2  startseq this is a confection that has been ar...    startseq delight says it all endseq\n",
       "3  startseq if you are looking for the secret ing...         startseq cough medicine endseq\n",
       "4  startseq great taffy at a great price there wa...            startseq great taffy endseq"
      ]
     },
     "execution_count": 17,
     "metadata": {
      "tags": []
     },
     "output_type": "execute_result"
    }
   ],
   "source": [
    "data.head()"
   ]
  },
  {
   "cell_type": "code",
   "execution_count": 18,
   "metadata": {
    "colab": {
     "base_uri": "https://localhost:8080/",
     "height": 34
    },
    "colab_type": "code",
    "id": "vy9_-ChZInUC",
    "outputId": "7e20ce0f-cecf-4ef6-8045-7890b6333191"
   },
   "outputs": [
    {
     "name": "stdout",
     "output_type": "stream",
     "text": [
      "0.9814535047962956\n"
     ]
    }
   ],
   "source": [
    "cnt=0\n",
    "for i in data['text']:\n",
    "    if(len(i.split())<=300):\n",
    "        cnt=cnt+1\n",
    "print(cnt/len(data['text']))"
   ]
  },
  {
   "cell_type": "code",
   "execution_count": 19,
   "metadata": {
    "colab": {
     "base_uri": "https://localhost:8080/",
     "height": 34
    },
    "colab_type": "code",
    "id": "g--b2KfZAPjF",
    "outputId": "faeb2db1-6740-4090-f7d5-7f413b9e41c7"
   },
   "outputs": [
    {
     "name": "stdout",
     "output_type": "stream",
     "text": [
      "0.9989437095446897\n"
     ]
    }
   ],
   "source": [
    "cnt=0\n",
    "for i in data['summary']:\n",
    "    if(len(i.split())<=20):\n",
    "        cnt=cnt+1\n",
    "print(cnt/len(data['summary']))"
   ]
  },
  {
   "cell_type": "code",
   "execution_count": 20,
   "metadata": {
    "colab": {},
    "colab_type": "code",
    "id": "huTKeZmD_UZi"
   },
   "outputs": [],
   "source": [
    "max_text_len=300\n",
    "max_summary_len=20"
   ]
  },
  {
   "cell_type": "markdown",
   "metadata": {
    "colab_type": "text",
    "id": "k9czGE8VsjtV"
   },
   "source": [
    "# Train Test Split"
   ]
  },
  {
   "cell_type": "code",
   "execution_count": 21,
   "metadata": {
    "colab": {},
    "colab_type": "code",
    "id": "08NtB1CiBge4"
   },
   "outputs": [],
   "source": [
    "from sklearn.model_selection import train_test_split\n",
    "X_train, X_test, Y_train, Y_test = train_test_split(data['text'], data['summary'],  train_size=0.8)"
   ]
  },
  {
   "cell_type": "markdown",
   "metadata": {
    "colab_type": "text",
    "id": "Za8Qua-xsmQG"
   },
   "source": [
    "# Tokenization\n"
   ]
  },
  {
   "cell_type": "code",
   "execution_count": 22,
   "metadata": {
    "colab": {},
    "colab_type": "code",
    "id": "svL71qyornui"
   },
   "outputs": [],
   "source": [
    "def pad_sequence(t, padding_var = 20):\n",
    "    t = sequence.pad_sequences(t, maxlen=padding_var, padding='post') \n",
    "    return t\n",
    "\n",
    "def build_data(train, test, padding_var):\n",
    "  print(\"=\"*100)\n",
    "  print(\"Fitting the Tokenizer...\")\n",
    "  tokenizer = Tokenizer(lower=True)\n",
    "  tokenizer.fit_on_texts(train)\n",
    "  print(\"Done...\")\n",
    "  print('Found %s unique tokens.' % len(tokenizer.word_counts))\n",
    "  print(\"=\"*100)\n",
    "  print()\n",
    "  print(\"Processing Text to sequence process\")\n",
    "  train = tokenizer.texts_to_sequences(train)\n",
    "  test = tokenizer.texts_to_sequences(test)\n",
    "  print(\"Done\")\n",
    "  print(\"=\"*100)\n",
    "  print()\n",
    "  print(\"Starting Padding Process...\")  \n",
    "  train = pad_sequence(train, padding_var)\n",
    "  test = pad_sequence(test, padding_var)\n",
    "  print(\"Done\")\n",
    "  return train, test, tokenizer"
   ]
  },
  {
   "cell_type": "markdown",
   "metadata": {
    "colab_type": "text",
    "id": "Usiy1bodsv5P"
   },
   "source": [
    "## Text Tokenization"
   ]
  },
  {
   "cell_type": "code",
   "execution_count": 23,
   "metadata": {
    "colab": {
     "base_uri": "https://localhost:8080/",
     "height": 221
    },
    "colab_type": "code",
    "id": "dggBkZDJr3LJ",
    "outputId": "6889a6e8-daa6-493f-ec25-94cf35031025"
   },
   "outputs": [
    {
     "name": "stdout",
     "output_type": "stream",
     "text": [
      "====================================================================================================\n",
      "Fitting the Tokenizer...\n",
      "Done...\n",
      "Found 67960 unique tokens.\n",
      "====================================================================================================\n",
      "\n",
      "Processing Text to sequence process\n",
      "Done\n",
      "====================================================================================================\n",
      "\n",
      "Starting Padding Process...\n",
      "Done\n"
     ]
    }
   ],
   "source": [
    "X_train, X_test, tokenizer_X = build_data(X_train, X_test, max_text_len)"
   ]
  },
  {
   "cell_type": "markdown",
   "metadata": {
    "colab_type": "text",
    "id": "ZOiU86x3ss3k"
   },
   "source": [
    "## Summary Tokenization"
   ]
  },
  {
   "cell_type": "code",
   "execution_count": 24,
   "metadata": {
    "colab": {
     "base_uri": "https://localhost:8080/",
     "height": 221
    },
    "colab_type": "code",
    "id": "-zcutmh7r9sN",
    "outputId": "2401845c-b44a-439d-e498-835871d551db"
   },
   "outputs": [
    {
     "name": "stdout",
     "output_type": "stream",
     "text": [
      "====================================================================================================\n",
      "Fitting the Tokenizer...\n",
      "Done...\n",
      "Found 18422 unique tokens.\n",
      "====================================================================================================\n",
      "\n",
      "Processing Text to sequence process\n",
      "Done\n",
      "====================================================================================================\n",
      "\n",
      "Starting Padding Process...\n",
      "Done\n"
     ]
    }
   ],
   "source": [
    "Y_train, Y_test, tokenizer_Y = build_data(Y_train, Y_test, max_summary_len)"
   ]
  },
  {
   "cell_type": "code",
   "execution_count": 25,
   "metadata": {
    "colab": {
     "base_uri": "https://localhost:8080/",
     "height": 34
    },
    "colab_type": "code",
    "id": "uCGGt1ypsdZT",
    "outputId": "bde92244-921e-43da-fe2c-5bee4fff677f"
   },
   "outputs": [
    {
     "data": {
      "text/plain": [
       "(67960, 18423)"
      ]
     },
     "execution_count": 25,
     "metadata": {
      "tags": []
     },
     "output_type": "execute_result"
    }
   ],
   "source": [
    "num_encoder_tokens = len(tokenizer_X.word_counts)\n",
    "num_decoder_tokens = len(tokenizer_Y.word_counts)+1\n",
    "num_encoder_tokens, num_decoder_tokens"
   ]
  },
  {
   "cell_type": "markdown",
   "metadata": {
    "colab_type": "text",
    "id": "HUPqyHYAs4SJ"
   },
   "source": [
    "# Processing Embedding Matrix¶"
   ]
  },
  {
   "cell_type": "code",
   "execution_count": 26,
   "metadata": {
    "colab": {
     "base_uri": "https://localhost:8080/",
     "height": 581
    },
    "colab_type": "code",
    "id": "CpAfvGhhs2Co",
    "outputId": "8ecadf73-0d31-4273-9be2-5bfb0f560ac6"
   },
   "outputs": [
    {
     "name": "stdout",
     "output_type": "stream",
     "text": [
      "Collecting en_core_web_lg==2.2.5\n",
      "\u001b[?25l  Downloading https://github.com/explosion/spacy-models/releases/download/en_core_web_lg-2.2.5/en_core_web_lg-2.2.5.tar.gz (827.9MB)\n",
      "\u001b[K     |████████████████████████████████| 827.9MB 1.2MB/s \n",
      "\u001b[?25hRequirement already satisfied: spacy>=2.2.2 in /usr/local/lib/python3.6/dist-packages (from en_core_web_lg==2.2.5) (2.2.4)\n",
      "Requirement already satisfied: blis<0.5.0,>=0.4.0 in /usr/local/lib/python3.6/dist-packages (from spacy>=2.2.2->en_core_web_lg==2.2.5) (0.4.1)\n",
      "Requirement already satisfied: srsly<1.1.0,>=1.0.2 in /usr/local/lib/python3.6/dist-packages (from spacy>=2.2.2->en_core_web_lg==2.2.5) (1.0.2)\n",
      "Requirement already satisfied: tqdm<5.0.0,>=4.38.0 in /usr/local/lib/python3.6/dist-packages (from spacy>=2.2.2->en_core_web_lg==2.2.5) (4.41.1)\n",
      "Requirement already satisfied: thinc==7.4.0 in /usr/local/lib/python3.6/dist-packages (from spacy>=2.2.2->en_core_web_lg==2.2.5) (7.4.0)\n",
      "Requirement already satisfied: setuptools in /usr/local/lib/python3.6/dist-packages (from spacy>=2.2.2->en_core_web_lg==2.2.5) (47.3.1)\n",
      "Requirement already satisfied: plac<1.2.0,>=0.9.6 in /usr/local/lib/python3.6/dist-packages (from spacy>=2.2.2->en_core_web_lg==2.2.5) (1.1.3)\n",
      "Requirement already satisfied: requests<3.0.0,>=2.13.0 in /usr/local/lib/python3.6/dist-packages (from spacy>=2.2.2->en_core_web_lg==2.2.5) (2.23.0)\n",
      "Requirement already satisfied: wasabi<1.1.0,>=0.4.0 in /usr/local/lib/python3.6/dist-packages (from spacy>=2.2.2->en_core_web_lg==2.2.5) (0.6.0)\n",
      "Requirement already satisfied: catalogue<1.1.0,>=0.0.7 in /usr/local/lib/python3.6/dist-packages (from spacy>=2.2.2->en_core_web_lg==2.2.5) (1.0.0)\n",
      "Requirement already satisfied: cymem<2.1.0,>=2.0.2 in /usr/local/lib/python3.6/dist-packages (from spacy>=2.2.2->en_core_web_lg==2.2.5) (2.0.3)\n",
      "Requirement already satisfied: murmurhash<1.1.0,>=0.28.0 in /usr/local/lib/python3.6/dist-packages (from spacy>=2.2.2->en_core_web_lg==2.2.5) (1.0.2)\n",
      "Requirement already satisfied: numpy>=1.15.0 in /usr/local/lib/python3.6/dist-packages (from spacy>=2.2.2->en_core_web_lg==2.2.5) (1.18.5)\n",
      "Requirement already satisfied: preshed<3.1.0,>=3.0.2 in /usr/local/lib/python3.6/dist-packages (from spacy>=2.2.2->en_core_web_lg==2.2.5) (3.0.2)\n",
      "Requirement already satisfied: chardet<4,>=3.0.2 in /usr/local/lib/python3.6/dist-packages (from requests<3.0.0,>=2.13.0->spacy>=2.2.2->en_core_web_lg==2.2.5) (3.0.4)\n",
      "Requirement already satisfied: certifi>=2017.4.17 in /usr/local/lib/python3.6/dist-packages (from requests<3.0.0,>=2.13.0->spacy>=2.2.2->en_core_web_lg==2.2.5) (2020.4.5.2)\n",
      "Requirement already satisfied: urllib3!=1.25.0,!=1.25.1,<1.26,>=1.21.1 in /usr/local/lib/python3.6/dist-packages (from requests<3.0.0,>=2.13.0->spacy>=2.2.2->en_core_web_lg==2.2.5) (1.24.3)\n",
      "Requirement already satisfied: idna<3,>=2.5 in /usr/local/lib/python3.6/dist-packages (from requests<3.0.0,>=2.13.0->spacy>=2.2.2->en_core_web_lg==2.2.5) (2.9)\n",
      "Requirement already satisfied: importlib-metadata>=0.20; python_version < \"3.8\" in /usr/local/lib/python3.6/dist-packages (from catalogue<1.1.0,>=0.0.7->spacy>=2.2.2->en_core_web_lg==2.2.5) (1.6.1)\n",
      "Requirement already satisfied: zipp>=0.5 in /usr/local/lib/python3.6/dist-packages (from importlib-metadata>=0.20; python_version < \"3.8\"->catalogue<1.1.0,>=0.0.7->spacy>=2.2.2->en_core_web_lg==2.2.5) (3.1.0)\n",
      "Building wheels for collected packages: en-core-web-lg\n",
      "  Building wheel for en-core-web-lg (setup.py) ... \u001b[?25l\u001b[?25hdone\n",
      "  Created wheel for en-core-web-lg: filename=en_core_web_lg-2.2.5-cp36-none-any.whl size=829180944 sha256=d7b5ff0d1f90d1c7a377b489364c4ada42047d093e37fa3738890c19d364e373\n",
      "  Stored in directory: /tmp/pip-ephem-wheel-cache-cgydbab7/wheels/2a/c1/a6/fc7a877b1efca9bc6a089d6f506f16d3868408f9ff89f8dbfc\n",
      "Successfully built en-core-web-lg\n",
      "Installing collected packages: en-core-web-lg\n",
      "Successfully installed en-core-web-lg-2.2.5\n",
      "\u001b[38;5;2m✔ Download and installation successful\u001b[0m\n",
      "You can now load the model via spacy.load('en_core_web_lg')\n"
     ]
    }
   ],
   "source": [
    "!python -m spacy download en_core_web_lg"
   ]
  },
  {
   "cell_type": "code",
   "execution_count": 27,
   "metadata": {
    "colab": {},
    "colab_type": "code",
    "id": "mRCjEgE8s9qw"
   },
   "outputs": [],
   "source": [
    "import en_core_web_lg\n",
    "text_word_vectos = en_core_web_lg.load() "
   ]
  },
  {
   "cell_type": "code",
   "execution_count": 28,
   "metadata": {
    "colab": {},
    "colab_type": "code",
    "id": "QNHMqjn5tAhO"
   },
   "outputs": [],
   "source": [
    "def build_embedding_matrix(tokenizer):\n",
    "    embedding_matrix = np.zeros((len(tokenizer.word_counts) + 1, 300))\n",
    "\n",
    "    for word, i in tokenizer.word_index.items():  \n",
    "        embedding_matrix[i] = text_word_vectos(word).vector\n",
    "    \n",
    "    return embedding_matrix \n",
    "embedding_matrix_enc = build_embedding_matrix(tokenizer_X)\n",
    "embedding_matrix_dec = build_embedding_matrix(tokenizer_Y)"
   ]
  },
  {
   "cell_type": "code",
   "execution_count": 29,
   "metadata": {
    "colab": {
     "base_uri": "https://localhost:8080/",
     "height": 34
    },
    "colab_type": "code",
    "id": "u7lVaHT7uLHW",
    "outputId": "57de22e8-b516-4dc7-aa85-ea6f467366fa"
   },
   "outputs": [
    {
     "data": {
      "text/plain": [
       "((67961, 300), (18423, 300))"
      ]
     },
     "execution_count": 29,
     "metadata": {
      "tags": []
     },
     "output_type": "execute_result"
    }
   ],
   "source": [
    "embedding_matrix_enc.shape, embedding_matrix_dec.shape"
   ]
  },
  {
   "cell_type": "markdown",
   "metadata": {
    "colab_type": "text",
    "id": "nTutoTghuRtZ"
   },
   "source": [
    "# Defining The Model\n"
   ]
  },
  {
   "cell_type": "code",
   "execution_count": 31,
   "metadata": {
    "colab": {},
    "colab_type": "code",
    "id": "w17cvcD7uStR"
   },
   "outputs": [],
   "source": [
    "from attention import AttentionLayer"
   ]
  },
  {
   "cell_type": "code",
   "execution_count": 32,
   "metadata": {
    "colab": {},
    "colab_type": "code",
    "id": "lLEvIw6iuVWB"
   },
   "outputs": [],
   "source": [
    "def build_model(latent_dim=256):\n",
    "\n",
    "    embedding_enc = Embedding(*embedding_matrix_enc.shape, weights=[embedding_matrix_enc], trainable=False, mask_zero=True, name = \"Encoder_Embedding\")\n",
    "    embedding_dec = Embedding(*embedding_matrix_dec.shape, weights=[embedding_matrix_dec], trainable=False, mask_zero=True, name = \"Decoder_Embedding\")\n",
    "    \n",
    "    \"\"\" Encoder LSTM\"\"\" \n",
    "    encoder_inputs = Input(shape=(max_text_len,), name=\"encoder_input\")\n",
    "    enc_emb = embedding_enc(encoder_inputs) \n",
    "    enc_output, forward_h, forward_c, backward_h, backward_c = Bidirectional(LSTM(latent_dim, return_sequences=True, return_state=True, name = \"Encoder_biLSTM\"))(enc_emb)\n",
    "    state_h = Concatenate()([forward_h, backward_h])\n",
    "    state_c = Concatenate()([forward_c, backward_c])\n",
    "     \n",
    "    encoder_states = [state_h, state_c]\n",
    "    \n",
    "\n",
    "    \"\"\" Decoder LSTM \"\"\" \n",
    "    decoder_inputs = Input(shape=(max_summary_len,), name=\"decoder_input\")\n",
    "    dec_emb_layer = embedding_dec(decoder_inputs)\n",
    "    dec_lstm = LSTM(2*latent_dim, return_sequences=True, return_state=True, name = \"Decoder_LSTM\")\n",
    "    \n",
    "    decoder_outputs, state_h, state_c = dec_lstm(dec_emb_layer,initial_state=encoder_states)\n",
    "     \n",
    "    decoder_states = [state_h, state_c] \n",
    "     \n",
    "    \"\"\" Attention Layer \"\"\"\n",
    "    attn_layer = AttentionLayer(name='attention_layer')\n",
    "    attn_out, attn_states = attn_layer([enc_output, decoder_outputs])\n",
    "    \n",
    "    decoder_concat_input = Concatenate(axis=-1, name='concat_layer')([decoder_outputs, attn_out])\n",
    "    \n",
    "    dense = Dense(num_decoder_tokens, activation='softmax', name='softmax_layer')\n",
    "    dense_time = TimeDistributed(dense, name='time_distributed_layer')\n",
    "    decoder_pred = dense_time(decoder_concat_input)\n",
    "\n",
    "    \"\"\" Defining Full Model \"\"\"\n",
    "    model = Model(inputs=[encoder_inputs, decoder_inputs], outputs = decoder_pred) \n",
    "    \n",
    "    \n",
    "    \n",
    "    \n",
    "    \"\"\" Defining Inference Model \"\"\" \n",
    "    \n",
    "    # Encoder Model\n",
    "     \n",
    "    encoder_model = Model(inputs = encoder_inputs, outputs = [enc_output, encoder_states])\n",
    "     \n",
    "    \"\"\" Decoder Model \"\"\"\n",
    "     \n",
    "    decoder_states_inputs = [Input(shape=(2*latent_dim,), name = \"Decoder_inp_1\"), Input(shape=(2*latent_dim,), name = \"Decoder_inp_2\")]\n",
    "    enc_output = Input(shape=(max_text_len, 2*latent_dim), name = \"encoder_output\")\n",
    "\n",
    "    # To predict the next word in the sequence, set the initial states to the states from the previous time step\n",
    "    decoder_outputs, state_h, state_c = dec_lstm(dec_emb_layer, initial_state=decoder_states_inputs)\n",
    "    decoder_states = [state_h, state_c]\n",
    "    \n",
    "    attn_out, attn_states = attn_layer([enc_output, decoder_outputs])\n",
    "    decoder_concat_input = Concatenate(axis=-1, name='concat_layer')([decoder_outputs, attn_out])\n",
    "    \n",
    "    decoder_pred = dense_time(decoder_concat_input)     \n",
    "    decoder_model = Model( [enc_output, decoder_states_inputs, decoder_inputs], [decoder_pred, attn_states, decoder_states])    \n",
    "    \n",
    "    \n",
    "    model.compile(optimizer='adam', loss='categorical_crossentropy')\n",
    "\n",
    "    return model, encoder_model, decoder_model"
   ]
  },
  {
   "cell_type": "code",
   "execution_count": 33,
   "metadata": {
    "colab": {},
    "colab_type": "code",
    "id": "N7KQ3zykuXM4"
   },
   "outputs": [],
   "source": [
    "model, encoder_model, decoder_model = build_model()"
   ]
  },
  {
   "cell_type": "code",
   "execution_count": 34,
   "metadata": {
    "colab": {
     "base_uri": "https://localhost:8080/",
     "height": 655
    },
    "colab_type": "code",
    "id": "fyXFbpTcvSr0",
    "outputId": "710cb37d-8c95-472f-cde2-ea3127344c80"
   },
   "outputs": [
    {
     "name": "stdout",
     "output_type": "stream",
     "text": [
      "Model Architecture\n"
     ]
    },
    {
     "data": {
      "image/png": "[encoded data removed]",
      "text/plain": [
       "<IPython.core.display.Image object>"
      ]
     },
     "execution_count": 34,
     "metadata": {
      "tags": []
     },
     "output_type": "execute_result"
    }
   ],
   "source": [
    "print(\"Model Architecture\")\n",
    "plot_model(model, to_file='model_architectures/model.png', show_shapes=True, show_layer_names=True, rankdir='TB', expand_nested=False, dpi=96)"
   ]
  },
  {
   "cell_type": "code",
   "execution_count": 35,
   "metadata": {
    "colab": {
     "base_uri": "https://localhost:8080/",
     "height": 439
    },
    "colab_type": "code",
    "id": "jg1KPX8MvgEF",
    "outputId": "453799dd-a946-4c06-a5d7-866b342c82e6"
   },
   "outputs": [
    {
     "name": "stdout",
     "output_type": "stream",
     "text": [
      "Encoder Model Architecture\n"
     ]
    },
    {
     "data": {
      "image/png": "[encoded data removed]",
      "text/plain": [
       "<IPython.core.display.Image object>"
      ]
     },
     "execution_count": 35,
     "metadata": {
      "tags": []
     },
     "output_type": "execute_result"
    }
   ],
   "source": [
    "print(\"Encoder Model Architecture\")\n",
    "plot_model(encoder_model, to_file='model_architectures/encoder_model.png', show_shapes=True, show_layer_names=True, rankdir='TB', expand_nested=False, dpi=96)"
   ]
  },
  {
   "cell_type": "code",
   "execution_count": 36,
   "metadata": {
    "colab": {
     "base_uri": "https://localhost:8080/",
     "height": 591
    },
    "colab_type": "code",
    "id": "XefMjwExvgHp",
    "outputId": "8d0e11f2-8d62-42df-b1da-086153ea5415"
   },
   "outputs": [
    {
     "name": "stdout",
     "output_type": "stream",
     "text": [
      "Decoder Model Architecture\n"
     ]
    },
    {
     "data": {
      "image/png": "[encoded data removed]",
      "text/plain": [
       "<IPython.core.display.Image object>"
      ]
     },
     "execution_count": 36,
     "metadata": {
      "tags": []
     },
     "output_type": "execute_result"
    }
   ],
   "source": [
    "print(\"Decoder Model Architecture\")\n",
    "plot_model(decoder_model, to_file='model_architectures/decoder_model.png', show_shapes=True, show_layer_names=True, rankdir='TB', expand_nested=False, dpi=96)"
   ]
  },
  {
   "cell_type": "code",
   "execution_count": 37,
   "metadata": {
    "colab": {},
    "colab_type": "code",
    "id": "75BE_mU9vupJ"
   },
   "outputs": [],
   "source": [
    "def generate_batch(X, y, batch_size):\n",
    "    ''' Generate a batch of data '''\n",
    "    while True:\n",
    "        for j in range(0, len(X), batch_size):\n",
    "            encoder_input_data = np.array(X[j:j+batch_size])\n",
    "            decoder_input_data = np.array(y[j:j+batch_size])\n",
    "            decoder_target_data = np.zeros((encoder_input_data.shape[0], max_summary_len, num_decoder_tokens),dtype='float32')\n",
    "            for i, target_text in enumerate(y[j:j+batch_size]):\n",
    "                for t, index in enumerate(target_text):\n",
    "                    if t>0:\n",
    "                        # decoder target sequence (one hot encoded)\n",
    "                        # does not include the START_ token\n",
    "                        decoder_target_data[i, t - 1, index] = 1.\n",
    "           \n",
    "            yield([encoder_input_data, decoder_input_data], decoder_target_data)"
   ]
  },
  {
   "cell_type": "code",
   "execution_count": 51,
   "metadata": {
    "colab": {
     "base_uri": "https://localhost:8080/",
     "height": 34
    },
    "colab_type": "code",
    "id": "9HqQmOTqv9fa",
    "outputId": "65952300-beb7-4526-f581-ad27d9e0a1b9"
   },
   "outputs": [
    {
     "data": {
      "text/plain": [
       "(130267, 32567)"
      ]
     },
     "execution_count": 51,
     "metadata": {
      "tags": []
     },
     "output_type": "execute_result"
    }
   ],
   "source": [
    "train_samples = len(X_train)\n",
    "val_samples = len(X_test)\n",
    "batch_size = 64\n",
    "epochs = 5\n",
    "train_samples, val_samples"
   ]
  },
  {
   "cell_type": "code",
   "execution_count": 39,
   "metadata": {
    "colab": {},
    "colab_type": "code",
    "id": "D1b7hPaxwWN-"
   },
   "outputs": [],
   "source": [
    "filepath=\"model/weights-improvement-{epoch:02d}.hdf5\"\n",
    "checkpoint = ModelCheckpoint(filepath, monitor='val_loss', save_best_only=True, mode='min')\n",
    "callbacks_list = [checkpoint]"
   ]
  },
  {
   "cell_type": "code",
   "execution_count": 52,
   "metadata": {
    "colab": {
     "base_uri": "https://localhost:8080/",
     "height": 204
    },
    "colab_type": "code",
    "id": "JyQxr-t8wKz5",
    "outputId": "4e8e943e-111e-4867-a703-6e1812e900e2"
   },
   "outputs": [
    {
     "name": "stdout",
     "output_type": "stream",
     "text": [
      "Epoch 1/5\n",
      "2035/2035 [==============================] - 1712s 841ms/step - loss: 0.6750 - val_loss: 0.9622\n",
      "Epoch 2/5\n",
      "2035/2035 [==============================] - 1710s 841ms/step - loss: 0.5958 - val_loss: 0.9906\n",
      "Epoch 3/5\n",
      "2035/2035 [==============================] - 1715s 843ms/step - loss: 0.5302 - val_loss: 1.0241\n",
      "Epoch 4/5\n",
      "2035/2035 [==============================] - 1711s 841ms/step - loss: 0.4767 - val_loss: 1.0573\n",
      "Epoch 5/5\n",
      "2035/2035 [==============================] - 1732s 851ms/step - loss: 0.4324 - val_loss: 1.0939\n"
     ]
    },
    {
     "data": {
      "text/plain": [
       "<tensorflow.python.keras.callbacks.History at 0x7f6d94951940>"
      ]
     },
     "execution_count": 52,
     "metadata": {
      "tags": []
     },
     "output_type": "execute_result"
    }
   ],
   "source": [
    "model.fit_generator(generator = generate_batch(X_train, Y_train, batch_size = batch_size),\n",
    "  steps_per_epoch = len(X_train)//batch_size,\n",
    "  epochs=epochs,\n",
    "  validation_data = generate_batch(X_test, Y_test, batch_size = batch_size),\n",
    "  validation_steps = len(X_test)//batch_size , callbacks = callbacks_list\n",
    ")"
   ]
  },
  {
   "cell_type": "code",
   "execution_count": null,
   "metadata": {
    "colab": {},
    "colab_type": "code",
    "id": "KfaibdiLwYhP"
   },
   "outputs": [],
   "source": [
    "model.save('model/final_model')"
   ]
  },
  {
   "cell_type": "code",
   "execution_count": null,
   "metadata": {
    "colab": {},
    "colab_type": "code",
    "id": "G7jvotqnxBFO"
   },
   "outputs": [],
   "source": [
    "# saving\n",
    "import pickle\n",
    "with open('model/tokenizer_X.pickle', 'wb') as handle:\n",
    "    pickle.dump(tokenizer_X, handle, protocol=pickle.HIGHEST_PROTOCOL)\n",
    "# saving\n",
    "with open('model/tokenizer_Y.pickle', 'wb') as handle:\n",
    "    pickle.dump(tokenizer_Y, handle, protocol=pickle.HIGHEST_PROTOCOL)"
   ]
  },
  {
   "cell_type": "markdown",
   "metadata": {
    "colab_type": "text",
    "id": "9DZO_LwlqXza"
   },
   "source": [
    "# Inference"
   ]
  },
  {
   "cell_type": "code",
   "execution_count": null,
   "metadata": {
    "colab": {},
    "colab_type": "code",
    "id": "NE2D-7bpqV89"
   },
   "outputs": [],
   "source": [
    "# saving\n",
    "import pickle\n",
    "with open('model/tokenizer_X.pickle', 'rb') as handle:\n",
    "    tokenizer_X = pickle.load(handle)\n",
    "# saving\n",
    "with open('model/tokenizer_Y.pickle', 'rb') as handle:\n",
    "    tokenizer_Y = pickle.load(handle)"
   ]
  },
  {
   "cell_type": "code",
   "execution_count": 53,
   "metadata": {
    "colab": {},
    "colab_type": "code",
    "id": "9VkXemlrxMpf"
   },
   "outputs": [],
   "source": [
    "def sents2sequences(tokenizer, sentences, pad_length=None, padding_type='post'):\n",
    "    encoded_text = tokenizer.texts_to_sequences(sentences)\n",
    "    preproc_text = pad_sequences(encoded_text, padding=padding_type, maxlen=pad_length)\n",
    "    return preproc_text\n",
    "\n",
    "stop_words = set(stopwords.words('english')) \n",
    "def text_cleaner(text,num):\n",
    "    newString = text.lower()\n",
    "    newString = BeautifulSoup(newString, \"lxml\").text\n",
    "    newString = re.sub(r'\\([^)]*\\)', '', newString)\n",
    "    newString = re.sub('\"','', newString)\n",
    "    newString = ' '.join([contraction_mapping[t] if t in contraction_mapping else t for t in newString.split(\" \")])    \n",
    "    newString = re.sub(r\"'s\\b\",\"\",newString)\n",
    "    newString = re.sub(\"[^a-zA-Z]\", \" \", newString) \n",
    "    newString = re.sub('[m]{2,}', 'mm', newString)\n",
    "    if(num==0):\n",
    "        tokens = [w for w in newString.split() if not w in stop_words]\n",
    "    else:\n",
    "        tokens=newString.split()\n",
    "    long_words=[]\n",
    "    for i in tokens:                                               \n",
    "        long_words.append(i)   \n",
    "    return \"startseq \" + (\" \".join(long_words)).strip() + \" endseq\"\n",
    "\n",
    "def decode_sequence(text, tokenizer_text = tokenizer_X, tokenizer_Y=tokenizer_Y):\n",
    "    # Text to sequence\n",
    "    #text = text_cleaner(text,1)\n",
    "    #print(text)\n",
    "    text = pad_sequence(tokenizer_text.texts_to_sequences([text]), 300)\n",
    "\n",
    "    # Encode the input as state vectors. \n",
    "    enc_output, encoder_states = encoder_model.predict(text) \n",
    "    decoder_states = encoder_states\n",
    "\n",
    "    # Generate empty target sequence of length 1.\n",
    "    target_seq = np.zeros((1,1))\n",
    "\n",
    "    # Populate the first character of target sequence with the start character.\n",
    "    target_seq[0, 0] = tokenizer_Y.word_index['startseq']\n",
    "     \n",
    "    attention_weights = []\n",
    "    stop_condition = False\n",
    "    decoded_sentence = ''\n",
    "    \n",
    "    while True:\n",
    "        decoder_pred, attn_states, decoder_states = decoder_model.predict([enc_output, decoder_states, target_seq])\n",
    "\n",
    "        dec_ind = np.argmax(decoder_pred, axis=-1)[0, 0]\n",
    "        if dec_ind == tokenizer_Y.word_index['endseq'] or len(decoded_sentence.split()) > 20:\n",
    "            break \n",
    "             \n",
    "        target_seq = np.zeros((1,1))\n",
    "        target_seq[0, 0] = dec_ind\n",
    "        attention_weights.append((dec_ind, attn_states))\n",
    "        decoded_sentence += tokenizer_Y.index_word[dec_ind] + ' '\n",
    "\n",
    "    return decoded_sentence"
   ]
  },
  {
   "cell_type": "code",
   "execution_count": 54,
   "metadata": {
    "colab": {
     "base_uri": "https://localhost:8080/",
     "height": 156
    },
    "colab_type": "code",
    "id": "3DaGBV_2xed2",
    "outputId": "859585f6-e17e-4741-fa1a-a32d3b0bddb4"
   },
   "outputs": [
    {
     "name": "stdout",
     "output_type": "stream",
     "text": [
      "Text: i have bought several of the vitality canned dog food products and have found them all to be of good quality the product looks more like a stew than a processed meat and it smells better my labrador is finicky and she appreciates this product better than most\n",
      "\n",
      "====================================================================================================\n",
      "Acutal Summary: good quality dog food\n",
      "\n",
      "====================================================================================================\n",
      "Text: good quality dog food \n"
     ]
    }
   ],
   "source": [
    "index = 0\n",
    "print(\"Text: {}\".format(data.iloc[index]['text'][9:-7]))\n",
    "print()\n",
    "print(\"=\"*100)\n",
    "\n",
    "print(\"Acutal Summary: {}\".format(data.iloc[index]['summary'][9:-7]))\n",
    "print()\n",
    "print(\"=\"*100)\n",
    "\n",
    "print(\"Text: {}\".format(decode_sequence(data.iloc[index]['text'])))"
   ]
  },
  {
   "cell_type": "code",
   "execution_count": 55,
   "metadata": {
    "colab": {
     "base_uri": "https://localhost:8080/",
     "height": 156
    },
    "colab_type": "code",
    "id": "MbkI3DPXxcv0",
    "outputId": "0351d34c-94f3-49ec-8143-b8f9464fd2be"
   },
   "outputs": [
    {
     "name": "stdout",
     "output_type": "stream",
     "text": [
      "Text: product arrived labeled as jumbo salted peanuts the peanuts were actually small sized unsalted not sure if this was an error or if the vendor intended to represent the product as jumbo\n",
      "\n",
      "====================================================================================================\n",
      "Acutal Summary: not as advertised\n",
      "\n",
      "====================================================================================================\n",
      "Text: warning about roasted peanuts \n"
     ]
    }
   ],
   "source": [
    "index = 1\n",
    "print(\"Text: {}\".format(data.iloc[index]['text'][9:-7]))\n",
    "print()\n",
    "print(\"=\"*100)\n",
    "\n",
    "print(\"Acutal Summary: {}\".format(data.iloc[index]['summary'][9:-7]))\n",
    "print()\n",
    "print(\"=\"*100)\n",
    "\n",
    "print(\"Text: {}\".format(decode_sequence(data.iloc[index]['text'][9:-7])))"
   ]
  },
  {
   "cell_type": "code",
   "execution_count": 56,
   "metadata": {
    "colab": {
     "base_uri": "https://localhost:8080/",
     "height": 156
    },
    "colab_type": "code",
    "id": "r0oKbdZO2n2s",
    "outputId": "a4158296-5ba2-422f-8dfa-0a04c34edc8e"
   },
   "outputs": [
    {
     "name": "stdout",
     "output_type": "stream",
     "text": [
      "Text: this is a confection that has been around a few centuries it is a light pillowy citrus gelatin with nuts in this case filberts and it is cut into tiny squares and then liberally coated with powdered sugar and it is a tiny mouthful of heaven not too chewy and very flavorful i highly recommend this yummy treat if you are familiar with the story of c s lewis the lion the witch and the wardrobe this is the treat that seduces edmund into selling out his brother and sisters to the witch\n",
      "\n",
      "====================================================================================================\n",
      "Acutal Summary: delight says it all\n",
      "\n",
      "====================================================================================================\n",
      "Text: chewy delight \n"
     ]
    }
   ],
   "source": [
    "index = 2\n",
    "print(\"Text: {}\".format(data.iloc[index]['text'][9:-7]))\n",
    "print()\n",
    "print(\"=\"*100)\n",
    "\n",
    "print(\"Acutal Summary: {}\".format(data.iloc[index]['summary'][9:-7]))\n",
    "print()\n",
    "print(\"=\"*100)\n",
    "\n",
    "print(\"Text: {}\".format(decode_sequence(data.iloc[index]['text'][9:-7])))"
   ]
  },
  {
   "cell_type": "code",
   "execution_count": 57,
   "metadata": {
    "colab": {
     "base_uri": "https://localhost:8080/",
     "height": 156
    },
    "colab_type": "code",
    "id": "4abGDhnL2nw0",
    "outputId": "58f19da6-de0b-47d7-8dc1-7985504eda21"
   },
   "outputs": [
    {
     "name": "stdout",
     "output_type": "stream",
     "text": [
      "Text: if you are looking for the secret ingredient in robitussin i believe i have found it i got this in addition to the root beer extract i ordered and made some cherry soda the flavor is very medicinal\n",
      "\n",
      "====================================================================================================\n",
      "Acutal Summary: cough medicine\n",
      "\n",
      "====================================================================================================\n",
      "Text: cough medicine\n"
     ]
    }
   ],
   "source": [
    "index = 3\n",
    "print(\"Text: {}\".format(data.iloc[index]['text'][9:-7]))\n",
    "print()\n",
    "print(\"=\"*100)\n",
    "\n",
    "print(\"Acutal Summary: {}\".format(data.iloc[index]['summary'][9:-7]))\n",
    "print()\n",
    "print(\"=\"*100)\n",
    "\n",
    "print(\"Text: {}\".format(\"decode_sequence(data.iloc[index]['text'][9:-7])\"))"
   ]
  },
  {
   "cell_type": "code",
   "execution_count": 49,
   "metadata": {
    "colab": {
     "base_uri": "https://localhost:8080/",
     "height": 136
    },
    "colab_type": "code",
    "id": "lWVPgIrB2nuv",
    "outputId": "1c4b8780-7548-4b00-8240-4d4bca4ffbeb"
   },
   "outputs": [
    {
     "name": "stdout",
     "output_type": "stream",
     "text": [
      "Text: great taffy at a great price there was a wide assortment of yummy taffy delivery was very quick if your a taffy lover this is a deal\n",
      "\n",
      "====================================================================================================\n",
      "Acutal Summary: great taffy\n",
      "\n",
      "====================================================================================================\n",
      "Text: great taffy \n"
     ]
    }
   ],
   "source": [
    "index = 4\n",
    "print(\"Text: {}\".format(data.iloc[index]['text'][9:-7]))\n",
    "print()\n",
    "print(\"=\"*100)\n",
    "\n",
    "print(\"Acutal Summary: {}\".format(data.iloc[index]['summary'][9:-7]))\n",
    "print()\n",
    "print(\"=\"*100)\n",
    "\n",
    "print(\"Text: {}\".format(decode_sequence(data.iloc[index]['text'][9:-7])))"
   ]
  },
  {
   "cell_type": "code",
   "execution_count": 49,
   "metadata": {
    "colab": {},
    "colab_type": "code",
    "id": "5Zygr6uUJzkQ"
   },
   "outputs": [],
   "source": []
  }
 ],
 "metadata": {
  "accelerator": "GPU",
  "colab": {
   "collapsed_sections": [],
   "name": "Text Summarizer.ipynb",
   "provenance": []
  },
  "kernelspec": {
   "display_name": "Python 3",
   "language": "python",
   "name": "python3"
  },
  "language_info": {
   "codemirror_mode": {
    "name": "ipython",
    "version": 3
   },
   "file_extension": ".py",
   "mimetype": "text/x-python",
   "name": "python",
   "nbconvert_exporter": "python",
   "pygments_lexer": "ipython3",
   "version": "3.7.4"
  }
 },
 "nbformat": 4,
 "nbformat_minor": 1
}
